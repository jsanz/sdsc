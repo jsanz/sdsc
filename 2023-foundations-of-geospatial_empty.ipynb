{
 "cells": [
  {
   "cell_type": "markdown",
   "id": "bd194578-be74-4b20-97ba-77632e0e85be",
   "metadata": {
    "slideshow": {
     "slide_type": "slide"
    },
    "tags": []
   },
   "source": [
    "#### Spatial Data Science Conference - 2023 \n",
    "## Foundations of Geospatial \n",
    "#### Danny Sheehan Climate Change Solutions Architect at AWS\n",
    "![image](https://spatial-data-science-conference.com/img/2023/repository/ny-summit-card-1.png)\n",
    "\n"
   ]
  },
  {
   "cell_type": "markdown",
   "id": "1e961f81",
   "metadata": {
    "slideshow": {
     "slide_type": "slide"
    }
   },
   "source": [
    "**Work:**\n",
    "- AWS\n",
    "- Jupiter Intelligence\n",
    "- Mount Sinai Emergency Medicine\n",
    "- UBS Investment Bank\n",
    "- AutoCEQR \n",
    "- Carto \n",
    "- Columbia University\n",
    "- AECOM, etc.  \n",
    "\n",
    "**Education:**\n",
    "- Columbia University\n",
    "- University at Buffalo\n",
    "- Geneseo"
   ]
  },
  {
   "cell_type": "markdown",
   "id": "bb319d5a",
   "metadata": {
    "slideshow": {
     "slide_type": "slide"
    }
   },
   "source": [
    "**Teaching:**\n",
    "- Columbia University\n",
    "- Barnard College\n",
    "- Pratt Institute\n",
    "\n",
    "**Certifications:**\n",
    "- Data Science (Columbia University, General Assembly)\n",
    "- AWS CCP, Prefect, etc. \n",
    "\n",
    "LinkedIn: https://www.linkedin.com/in/daniel-martin-sheehan/\n"
   ]
  },
  {
   "cell_type": "markdown",
   "id": "ccabb561-8268-4749-96be-7bde7112fec3",
   "metadata": {
    "slideshow": {
     "slide_type": "slide"
    }
   },
   "source": [
    "##### Dependencies\n",
    "\n",
    "This Notebook uses https://rise.readthedocs.io/en/stable/ - use `jupyter notebook` to use, not lab :/"
   ]
  },
  {
   "cell_type": "code",
   "execution_count": null,
   "id": "50d06908-0045-4093-b6fd-0133eb696042",
   "metadata": {
    "slideshow": {
     "slide_type": "-"
    },
    "tags": []
   },
   "outputs": [],
   "source": [
    "import warnings\n",
    "warnings.filterwarnings('ignore')\n",
    "# See README.md for all libraries and steps to create the environment. \n",
    "\n",
    "import pandas as pd\n",
    "import geopandas as gpd\n",
    "from shapely import wkt\n",
    "import matplotlib.pyplot as plt\n",
    "import rasterio\n",
    "from rasterstats import zonal_stats\n",
    "import numpy as np\n",
    "import osmnx as ox\n",
    "\n",
    "%matplotlib inline\n"
   ]
  },
  {
   "cell_type": "code",
   "execution_count": null,
   "id": "9666bc2b",
   "metadata": {},
   "outputs": [],
   "source": [
    "import shapely\n",
    "shapely.__version__"
   ]
  },
  {
   "cell_type": "markdown",
   "id": "4500f264",
   "metadata": {
    "slideshow": {
     "slide_type": "slide"
    }
   },
   "source": [
    "# Geospatial Data Models\n",
    "\n",
    "> A data model is a way of defining and representing real world surfaces and characteristics in GIS. \n",
    "\n",
    "> There are two primary types of spatial data models: **Vector** and **Raster**.\n",
    "\n",
    "Source: http://gsp.humboldt.edu/OLM/Courses/GSP_216_Online/lesson3-1/data-models.html\n"
   ]
  },
  {
   "cell_type": "markdown",
   "id": "8199f895-d033-4969-a2cc-dfee6f1583be",
   "metadata": {
    "slideshow": {
     "slide_type": "slide"
    }
   },
   "source": [
    "\n",
    "## Vector\n",
    "**Vector** data represents features as discrete points, lines, and polygons\n",
    "\n",
    "## Raster\n",
    "**Raster**  data represents features as a rectangular matrix of square cells (pixels)\n",
    "\n",
    "![image.png](img/raster-vector.png)\n",
    "\n",
    "Source: http://www.geo.umass.edu/courses/geo494a/Chapter2_GIS_Fundamentals.pdf"
   ]
  },
  {
   "cell_type": "markdown",
   "id": "9bbe53c9-711a-42d5-9138-745cc802f021",
   "metadata": {
    "slideshow": {
     "slide_type": "slide"
    },
    "tags": []
   },
   "source": [
    "### TIN Data model \n",
    "\n",
    "> A triangulated irregular network (TIN)\n",
    "is a data model commonly used to represent\n",
    "terrain heights - Source: http://www.geo.umass.edu/courses/geo494a/Chapter2_GIS_Fundamentals.pdf\n",
    "\n",
    "Typical use cases are for terrain inluts in Hydrologic Modeling / Watershed Modeling. \n",
    "\n",
    "![tin](img/tin.png)\n",
    "\n",
    "Source: http://www.geo.umass.edu/courses/geo494a/Chapter2_GIS_Fundamentals.pdf\n"
   ]
  },
  {
   "cell_type": "markdown",
   "id": "80fc6f51-0a48-475c-89c7-1edf73b90a3e",
   "metadata": {
    "slideshow": {
     "slide_type": "slide"
    },
    "tags": []
   },
   "source": [
    "# Vector Data Model\n",
    "\n",
    "> Vector data is very common, and is often used to represent features like roads and boundaries. Vector data comes in the form of points and lines that are geometrically and mathematically associated.  "
   ]
  },
  {
   "cell_type": "markdown",
   "id": "12564b69",
   "metadata": {
    "slideshow": {
     "slide_type": "slide"
    }
   },
   "source": [
    "> * Points:\n",
    "    * One pair of coordinates defines the location of a point feature.\n",
    "\n",
    "> * Polylines (LineStrings):\n",
    "    * Two or more pairs of coordinates that are connected define a line feature.\n",
    "    * A series of connected points\n",
    "\n",
    "> * Polygons:\n",
    "    * Multiple pairs of coordinates that are connected and closed define a polygon feature.\n",
    "    * A series of connected points that loop back to the first point\n",
    "      * Multiple \"polygons\" can exist in one layer\n",
    "      * Polygons can have internal polygons or \"holes\"\n",
    "      * The beginning and ending coordinates for a polygon are the same.\n",
    "      \n",
    "Source: http://gsp.humboldt.edu/OLM/Courses/GSP_216_Online/lesson3-1/data-models.html"
   ]
  },
  {
   "cell_type": "markdown",
   "id": "2aabf0aa-d34b-4591-9067-cdf3aa947395",
   "metadata": {
    "slideshow": {
     "slide_type": "slide"
    },
    "tags": []
   },
   "source": [
    "# Shapely\n",
    "One dependency (another Python Library GeoPandas depends on) is [Shapely](https://shapely.readthedocs.io/en/latest/manual.html)\n",
    "\n",
    "> Shapely is a Python package for set-theoretic analysis and manipulation of planar features using (via Python’s ctypes module) functions from the well known and widely deployed GEOS library. GEOS, a port of the Java Topology Suite (JTS), is the geometry engine of the PostGIS spatial extension for the PostgreSQL RDBMS. The designs of JTS and GEOS are largely guided by the Open Geospatial Consortium’s Simple Features Access Specification 1 and Shapely adheres mainly to the same set of standard classes and operations. Shapely is thereby deeply rooted in the conventions of the geographic information systems (GIS) world, but aspires to be equally useful to programmers working on non-conventional problems.\n",
    "\n",
    "Source: https://shapely.readthedocs.io/en/latest/manual.html"
   ]
  },
  {
   "cell_type": "markdown",
   "id": "351200b4-7f09-4f7c-b483-e06b6f87bbce",
   "metadata": {
    "slideshow": {
     "slide_type": "slide"
    },
    "tags": []
   },
   "source": [
    "## Vector\n",
    "### Points"
   ]
  },
  {
   "cell_type": "code",
   "execution_count": null,
   "id": "02bbf995-6bfc-4eff-9ca4-188be56649a8",
   "metadata": {
    "tags": []
   },
   "outputs": [],
   "source": [
    "from shapely.geometry import Point\n",
    "point = Point(\n",
    "    0.0, \n",
    "    0.0)\n",
    "\n",
    "point"
   ]
  },
  {
   "cell_type": "markdown",
   "id": "ca52aa99-142b-4453-b2e1-e60317f3cb1a",
   "metadata": {
    "slideshow": {
     "slide_type": "slide"
    }
   },
   "source": [
    "### Lines - (LineString)"
   ]
  },
  {
   "cell_type": "code",
   "execution_count": null,
   "id": "68292080-0659-41a9-a3f9-3afff5bc7a93",
   "metadata": {
    "tags": []
   },
   "outputs": [],
   "source": [
    "from shapely.geometry import LineString"
   ]
  },
  {
   "cell_type": "code",
   "execution_count": null,
   "id": "f8dea7d1-3ae9-4d87-a821-d72815c72d78",
   "metadata": {
    "tags": []
   },
   "outputs": [],
   "source": [
    "line = LineString([(0, 0), (2, 2)])\n",
    "line"
   ]
  },
  {
   "cell_type": "code",
   "execution_count": null,
   "id": "7cd28e7e-0556-475d-9769-f2d650610531",
   "metadata": {
    "slideshow": {
     "slide_type": "slide"
    },
    "tags": []
   },
   "outputs": [],
   "source": [
    "a = LineString([(0, 0), (1, 1), (1, 2), (2, 2)])\n",
    "b = LineString([(0, 0), (1, 1), (2, 1), (2, 2)])"
   ]
  },
  {
   "cell_type": "code",
   "execution_count": null,
   "id": "b202c389-274f-49bd-aea0-a0d1b1fd0b04",
   "metadata": {
    "tags": []
   },
   "outputs": [],
   "source": [
    "a"
   ]
  },
  {
   "cell_type": "code",
   "execution_count": null,
   "id": "8b240ca3-e1d4-4b79-8a41-01ffc5f8f852",
   "metadata": {
    "tags": []
   },
   "outputs": [],
   "source": [
    "b"
   ]
  },
  {
   "cell_type": "markdown",
   "id": "1ce2b342-2f9f-4762-afad-d95aa5c1c9d5",
   "metadata": {
    "slideshow": {
     "slide_type": "-"
    },
    "tags": []
   },
   "source": [
    "#### Intersection of Two LineString Objects"
   ]
  },
  {
   "cell_type": "code",
   "execution_count": null,
   "id": "62699195-b004-4b1e-90d5-3270e50de8e2",
   "metadata": {
    "tags": []
   },
   "outputs": [],
   "source": [
    "x = a.intersection(b)\n",
    "x"
   ]
  },
  {
   "cell_type": "markdown",
   "id": "7eea7a71-70dd-415f-a45f-3160eb0057b8",
   "metadata": {
    "slideshow": {
     "slide_type": "slide"
    },
    "tags": []
   },
   "source": [
    "### Polygons"
   ]
  },
  {
   "cell_type": "code",
   "execution_count": null,
   "id": "cd53141c-b649-4308-b98f-b2e346b109c2",
   "metadata": {
    "tags": []
   },
   "outputs": [],
   "source": [
    "from shapely.geometry import Polygon"
   ]
  },
  {
   "cell_type": "code",
   "execution_count": null,
   "id": "60e0ecec-aaad-430e-8eec-3927d4a00d9b",
   "metadata": {
    "slideshow": {
     "slide_type": "-"
    },
    "tags": []
   },
   "outputs": [],
   "source": [
    "c = Polygon([[1, 1], [-1, 3], [3, 3], [3, 1]])\n",
    "d = Polygon([[0, 0], [0, 4], [4, 4], [4, 1]])"
   ]
  },
  {
   "cell_type": "code",
   "execution_count": null,
   "id": "827abfba-b9ae-4720-90a9-c4f33ebf3893",
   "metadata": {
    "slideshow": {
     "slide_type": "-"
    },
    "tags": []
   },
   "outputs": [],
   "source": [
    "c"
   ]
  },
  {
   "cell_type": "code",
   "execution_count": null,
   "id": "cb11bc4a-6edb-4b18-b126-f7520d0475b1",
   "metadata": {
    "tags": []
   },
   "outputs": [],
   "source": [
    "d"
   ]
  },
  {
   "cell_type": "markdown",
   "id": "e81c91b2-fd92-41d5-b6ff-9437a3f78e64",
   "metadata": {
    "slideshow": {
     "slide_type": "-"
    },
    "tags": []
   },
   "source": [
    "#### Intersection of Two Polygons"
   ]
  },
  {
   "cell_type": "code",
   "execution_count": null,
   "id": "ee46fcbf-9a5f-44a4-ae5f-9162e0d397f3",
   "metadata": {
    "tags": []
   },
   "outputs": [],
   "source": [
    "x = c.intersection(d)\n",
    "x"
   ]
  },
  {
   "cell_type": "markdown",
   "id": "c506bd53-64b5-48b1-9be7-6e47eb7b327a",
   "metadata": {
    "slideshow": {
     "slide_type": "slide"
    }
   },
   "source": [
    "### MultiPoint"
   ]
  },
  {
   "cell_type": "code",
   "execution_count": null,
   "id": "7efb6551-462c-463b-88e5-c21f855877fa",
   "metadata": {
    "tags": []
   },
   "outputs": [],
   "source": [
    "from shapely.geometry import MultiPoint"
   ]
  },
  {
   "cell_type": "code",
   "execution_count": null,
   "id": "545e028d-e9d4-4b39-8d84-9c5a973f66f8",
   "metadata": {
    "tags": []
   },
   "outputs": [],
   "source": [
    "e = MultiPoint([(0, 0), (1, 1), (1, -1)])\n",
    "e"
   ]
  },
  {
   "cell_type": "code",
   "execution_count": null,
   "id": "500e06e4-29a1-419c-84cd-e1ad9b302d14",
   "metadata": {
    "tags": []
   },
   "outputs": [],
   "source": [
    "e.convex_hull  # minimum bounding geometry"
   ]
  },
  {
   "cell_type": "markdown",
   "id": "124e743b-ab48-4b09-8382-779776b0ab38",
   "metadata": {
    "slideshow": {
     "slide_type": "slide"
    },
    "tags": []
   },
   "source": [
    "# Pandas\n",
    "\n",
    "![pandas-img](https://pandas.pydata.org/static/img/pandas.svg)"
   ]
  },
  {
   "cell_type": "markdown",
   "id": "772d7edc-e6b0-4b8f-a0d9-b52564bcd34a",
   "metadata": {
    "slideshow": {
     "slide_type": "slide"
    }
   },
   "source": [
    "# Introduction to Pandas\n",
    "\n",
    "> pandas is an open source, BSD-licensed library providing high-performance, easy-to-use data structures and data analysis tools for the Python programming language. Source: https://pandas.pydata.org/pandas-docs/stable/index.html\n",
    "\n",
    "If totally new to Pandas, you can think of Pandas as the table (.dbf) of a Shapefile or as a Sheet in Excel or Google Spreadsheet. "
   ]
  },
  {
   "cell_type": "markdown",
   "id": "6fe9017a",
   "metadata": {
    "slideshow": {
     "slide_type": "slide"
    }
   },
   "source": [
    "## Pandas DataFrame\n",
    "> DataFrame is a 2-dimensional labeled data structure with columns of potentially different types. You can think of it like a spreadsheet or SQL table, or a dict of Series objects. It is generally the most commonly used pandas object. Like Series, DataFrame accepts many different kinds of input. Source: https://pandas.pydata.org/pandas-docs/stable/getting_started/dsintro.html\n",
    "\n",
    "\n",
    "![pandas_dataframe](https://pandas.pydata.org/pandas-docs/stable/_images/01_table_dataframe.svg)\n",
    "<center> Source: https://pandas.pydata.org/pandas-docs/stable/getting_started </center>"
   ]
  },
  {
   "cell_type": "markdown",
   "id": "2d719076",
   "metadata": {
    "slideshow": {
     "slide_type": "slide"
    }
   },
   "source": [
    "### Reading in a .csv into Pandas"
   ]
  },
  {
   "cell_type": "code",
   "execution_count": null,
   "id": "9f5d7b0d-58ad-4807-9693-11d33588eb92",
   "metadata": {},
   "outputs": [],
   "source": [
    "csv_url = 'https://data.cityofnewyork.us/api/views/he7q-3hwy/rows.csv?accessType=DOWNLOAD'"
   ]
  },
  {
   "cell_type": "code",
   "execution_count": null,
   "id": "24a0d162-6465-453d-8403-60c99e0c28ab",
   "metadata": {
    "tags": []
   },
   "outputs": [],
   "source": [
    "df = pd.read_csv(csv_url)"
   ]
  },
  {
   "cell_type": "code",
   "execution_count": null,
   "id": "203e0a84-2112-4ba9-ab72-3e013078ef34",
   "metadata": {},
   "outputs": [],
   "source": [
    "# show a random sample of rows from the .csv data read in to the DataFrame object\n",
    "df.sample(10)"
   ]
  },
  {
   "cell_type": "code",
   "execution_count": null,
   "id": "41620faa",
   "metadata": {
    "slideshow": {
     "slide_type": "slide"
    }
   },
   "outputs": [],
   "source": [
    "# show the first handful of records using .head()\n",
    "\n",
    "df.head(20)"
   ]
  },
  {
   "cell_type": "code",
   "execution_count": null,
   "id": "48dbd9af",
   "metadata": {
    "slideshow": {
     "slide_type": "slide"
    }
   },
   "outputs": [],
   "source": [
    "df.shape"
   ]
  },
  {
   "cell_type": "code",
   "execution_count": null,
   "id": "ea14d6b7",
   "metadata": {},
   "outputs": [],
   "source": [
    "df.value_counts('LINE')"
   ]
  },
  {
   "cell_type": "markdown",
   "id": "7a49bbd4-f658-4e92-b39a-9cb1257ff545",
   "metadata": {
    "slideshow": {
     "slide_type": "slide"
    },
    "tags": []
   },
   "source": [
    "# GeoPandas\n",
    "\n",
    "![geopandas-img](https://geopandas.org/en/stable/_static/geopandas_logo_web.svg)"
   ]
  },
  {
   "cell_type": "markdown",
   "id": "3fd0289b",
   "metadata": {
    "slideshow": {
     "slide_type": "slide"
    }
   },
   "source": [
    "#### GeoPandas"
   ]
  },
  {
   "cell_type": "code",
   "execution_count": null,
   "id": "50c9925a",
   "metadata": {},
   "outputs": [],
   "source": [
    "from shapely import wkt\n",
    "\n",
    "gdf_subway = gpd.GeoDataFrame(\n",
    "    df, geometry=df['the_geom'].apply(wkt.loads), \n",
    "    crs=\"EPSG:4326\")\n",
    "\n",
    "gdf_subway.plot();"
   ]
  },
  {
   "cell_type": "code",
   "execution_count": null,
   "id": "00d0de0d",
   "metadata": {
    "slideshow": {
     "slide_type": "slide"
    }
   },
   "outputs": [],
   "source": [
    "gdf_subway.crs"
   ]
  },
  {
   "cell_type": "code",
   "execution_count": null,
   "id": "93b66cba-bc73-47c2-8975-c459122093d1",
   "metadata": {
    "slideshow": {
     "slide_type": "slide"
    },
    "tags": []
   },
   "outputs": [],
   "source": [
    "boro_geojson_link = 'https://data.cityofnewyork.us/api/geospatial/tqmj-j8zm?method=export&format=GeoJSON'"
   ]
  },
  {
   "cell_type": "code",
   "execution_count": null,
   "id": "a0e08aa9-399a-4643-817f-8e71eae24793",
   "metadata": {
    "tags": []
   },
   "outputs": [],
   "source": [
    "# read in geojson as geopandas GeoDataFrame\n",
    "gdf = gpd.read_file(boro_geojson_link)"
   ]
  },
  {
   "cell_type": "code",
   "execution_count": null,
   "id": "53ef498c-0084-4885-a2cb-0151c6703f95",
   "metadata": {
    "tags": []
   },
   "outputs": [],
   "source": [
    "gdf.plot(figsize=(5, 5));  # nyc boros"
   ]
  },
  {
   "cell_type": "code",
   "execution_count": null,
   "id": "2faee996-4abe-4030-b53b-a8e646956e42",
   "metadata": {
    "slideshow": {
     "slide_type": "slide"
    },
    "tags": []
   },
   "outputs": [],
   "source": [
    "gdf.head()"
   ]
  },
  {
   "cell_type": "code",
   "execution_count": null,
   "id": "b3662806",
   "metadata": {
    "slideshow": {
     "slide_type": "slide"
    }
   },
   "outputs": [],
   "source": [
    "# what is the coordinate reference system?\n",
    "\n",
    "gdf.crs"
   ]
  },
  {
   "cell_type": "markdown",
   "id": "55b17e48-6435-47a0-b486-5bdf1b735105",
   "metadata": {
    "slideshow": {
     "slide_type": "slide"
    }
   },
   "source": [
    "#### To change the Projection, we set the argument `inplace=True`"
   ]
  },
  {
   "cell_type": "code",
   "execution_count": null,
   "id": "cc6511fd-2154-48e8-ad1e-6920c856882d",
   "metadata": {
    "tags": []
   },
   "outputs": [],
   "source": [
    "gdf.to_crs(epsg=2263, inplace=True)  \n",
    "# changed the state of the projection systems\n",
    "\n",
    "# what is 2263 ???"
   ]
  },
  {
   "cell_type": "code",
   "execution_count": null,
   "id": "6cb3ec8f",
   "metadata": {},
   "outputs": [],
   "source": [
    "gdf.crs"
   ]
  },
  {
   "cell_type": "markdown",
   "id": "0e1f56e7-16d5-4948-bd3f-8b2fc43f424b",
   "metadata": {
    "slideshow": {
     "slide_type": "slide"
    }
   },
   "source": [
    "# Geoprocessing\n",
    "\n",
    "Very broadly, **Geoprocessing** is any operation involving geospatial data or methods. The Geographic Information Systems (GIS) software company Esri refers to it as \"[Computing with geographic data.](http://webhelp.esri.com/arcgisdesktop/9.3/index.cfm?TopicName=Comparing_Geoprocessing_and_Spatial_Analysis)\" \n",
    "\n",
    "It is commonly used interchangeably with the term **[Spatial Analysis](http://webhelp.esri.com/arcgisdesktop/9.3/index.cfm?TopicName=Comparing_Geoprocessing_and_Spatial_Analysi)**. \n",
    "- However, Spatial Analysis includes the interpretation of the results of Geoprocessing. \n",
    "\n"
   ]
  },
  {
   "cell_type": "markdown",
   "id": "ed3ae323",
   "metadata": {
    "slideshow": {
     "slide_type": "slide"
    }
   },
   "source": [
    "Professor Jochen Albrecht defines Geoprocessing as;\n",
    "> ...any GIS operation used to manipulate data. A typical geoprocessing operation takes an input dataset, performs an operation on that dataset, and returns the result of the operation as an output dataset, also referred to as derived data. \n",
    "\n",
    "> Common geoprocessing operations are geographic feature overlay, feature selection and analysis, topology processing, and data conversion. \n",
    "\n",
    "> Geoprocessing allows you to define, manage, and analyze geographic information used to make decisions. - [Jochen Albrecht](http://www.geography.hunter.cuny.edu/~jochen/GTECH361/lectures/lecture12/concepts/01%20What%20is%20geoprocessing.htm)\n",
    "\n"
   ]
  },
  {
   "cell_type": "markdown",
   "id": "33fe5ee8",
   "metadata": {
    "slideshow": {
     "slide_type": "slide"
    }
   },
   "source": [
    "### Geoprocessing Library Selection\n",
    "\n",
    "There are several Geoprocessing libraries and technologies. A few notable open source ones are;\n",
    "\n",
    "* [PostGIS](https://postgis.net/) - Spatially Enabled PostgreSQL \n",
    "* [CARTO](https://carto.com/platform#rapidly-carry-out-spatial-analysis-side-image) - Carto Spatial Analysis\n",
    "* [GeoPandas](https://geopandas.org/) - Pandas Extended with [Shapely](https://shapely.readthedocs.io/en/latest/)\n",
    "* [ArcPy / ArcGIS](https://pro.arcgis.com/en/pro-app/arcpy/get-started/what-is-arcpy-.htm) - Esri's Python site package\n",
    "* [PyQGIS](https://docs.qgis.org/testing/en/docs/pyqgis_developer_cookbook/) - [QGIS](https://www.qgis.org/en/site/)'s Python Package\n",
    "* [OGR/GDAL](https://gdal.org/) \n",
    "* Any several more (Alteryx, Tableau, etc.)"
   ]
  },
  {
   "cell_type": "markdown",
   "id": "994bb83b",
   "metadata": {
    "slideshow": {
     "slide_type": "slide"
    }
   },
   "source": [
    "#### SQL \n",
    "\n",
    "- **[Carto Spatial SQL](https://carto.com/spatial-sql/)**\n",
    "- **[PostGIS](https://postgis.net/)**\n",
    "- **[AWS Redshift](https://docs.aws.amazon.com/redshift/latest/dg/geospatial-functions.html)**\n",
    "- **[Amazon Athena](https://docs.aws.amazon.com/athena/latest/ug/geospatial-functions-list-v2-function-name-changes-and-new-functions.html)**\n",
    "- **[Trino](https://trino.io/docs/current/functions/geospatial.html)** \n",
    "- etc. \n",
    "\n",
    "```\n",
    "SELECT\n",
    " ST_Intersects(a.the_geom, b.the_geom) AS the_geom\n",
    "FROM\n",
    " a, b\n",
    "```"
   ]
  },
  {
   "cell_type": "markdown",
   "id": "6bc333d3",
   "metadata": {
    "slideshow": {
     "slide_type": "slide"
    }
   },
   "source": [
    "#### ArcPy\n",
    "\n",
    "> ArcPy is a Python site package that provides a useful and productive way to perform geographic data analysis, data conversion, data management, and map automation with Python. [Esri](https://pro.arcgis.com/en/pro-app/arcpy/get-started/what-is-arcpy-.htm)\n",
    "\n",
    "Arcpy is for ArcGIS Desktop or ArcGIS Pro. The [ArcGIS API for Python](https://www.esri.com/en-us/arcgis/trial), using ArcGIS Online is also available for multiple platforms. \n",
    "\n",
    "```\n",
    "arcpy.analysis.Intersect([feature_1, feature_2], out_feature)\n",
    "```"
   ]
  },
  {
   "cell_type": "markdown",
   "id": "0eb1a258",
   "metadata": {
    "slideshow": {
     "slide_type": "slide"
    }
   },
   "source": [
    "# Geometric Manipulations"
   ]
  },
  {
   "cell_type": "markdown",
   "id": "71798ce3-4950-4523-bdde-375853358b22",
   "metadata": {
    "slideshow": {
     "slide_type": "slide"
    }
   },
   "source": [
    "## Buffer\n",
    "\n",
    "> Returns a GeoSeries of geometries representing all points within a given distance of each geometric object. Source: https://geopandas.org/geometric_manipulations.html"
   ]
  },
  {
   "cell_type": "code",
   "execution_count": null,
   "id": "9c372f57-bc3d-4751-970a-85807ef3d55d",
   "metadata": {
    "slideshow": {
     "slide_type": "slide"
    },
    "tags": []
   },
   "outputs": [],
   "source": [
    "fig, ax = plt.subplots(figsize=(6, 6))\n",
    "gdf.plot(ax=ax)\n",
    "\n",
    "gdf.buffer(5000).plot(ax=ax, facecolor=\"none\", alpha=0.7, edgecolor='red', linewidth=3)\n",
    "\n",
    "plt.title('Buffer');"
   ]
  },
  {
   "cell_type": "markdown",
   "id": "f9770cb2-1f85-4e47-be71-6625358d3c1b",
   "metadata": {
    "slideshow": {
     "slide_type": "slide"
    }
   },
   "source": [
    "## Centroid\n",
    "\n",
    "> Returns a GeoSeries of points for each geometric centroid. Source: https://geopandas.org/geometric_manipulations.html#GeoSeries.boundary\n",
    "\n",
    "> In mathematics and physics, the centroid or geometric center of a plane figure is the arithmetic mean position of all the points in the figure. \n",
    "\n",
    "Source: https://en.wikipedia.org/wiki/Centroid\n",
    "\n",
    "![centroid](https://upload.wikimedia.org/wikipedia/commons/thumb/5/5e/Triangle.Centroid.svg/440px-Triangle.Centroid.svg.png)\n",
    "_Source: [https://en.wikipedia.org/wiki/Centroid](https://en.wikipedia.org/wiki/Centroid)_"
   ]
  },
  {
   "cell_type": "code",
   "execution_count": null,
   "id": "a201c1db-a870-42f1-9f6c-0816ec87ba6f",
   "metadata": {
    "slideshow": {
     "slide_type": "slide"
    },
    "tags": []
   },
   "outputs": [],
   "source": [
    "fig, ax = plt.subplots(figsize=(7, 7))\n",
    "gdf.plot(ax=ax)\n",
    "\n",
    "gdf.centroid.plot(ax=ax, facecolor=\"red\", markersize=200)\n",
    "\n",
    "plt.title('Centroid');"
   ]
  },
  {
   "cell_type": "markdown",
   "id": "27809b29-447f-4128-8035-9b226f651e1b",
   "metadata": {
    "slideshow": {
     "slide_type": "slide"
    }
   },
   "source": [
    "## Convex Hull\n",
    "\n",
    "> Returns a GeoSeries of geometries representing the smallest convex Polygon containing all the points in each object unless the number of points in the object is less than three. For two points, the convex hull collapses to a LineString; for 1, a Point. Source: https://geopandas.org/geometric_manipulations.html#GeoSeries.boundary\n",
    "\n",
    "> In geometry, the convex hull or convex envelope or convex closure of a shape is the smallest convex set that contains it. For a bounded subset of the plane, the convex hull may be visualized as the shape enclosed by a rubber band stretched around the subset. Source: https://en.wikipedia.org/wiki/Convex_hull"
   ]
  },
  {
   "cell_type": "code",
   "execution_count": null,
   "id": "a1f5892b-0eac-4739-bcba-01e8be2c3adc",
   "metadata": {
    "slideshow": {
     "slide_type": "slide"
    },
    "tags": []
   },
   "outputs": [],
   "source": [
    "fig, ax = plt.subplots(figsize=(6, 6))\n",
    "gdf.plot(ax=ax)\n",
    "\n",
    "gdf.convex_hull.plot(ax=ax, facecolor=\"none\", alpha=0.7, edgecolor='red', linewidth=3)\n",
    "\n",
    "plt.title('Convex Hull');"
   ]
  },
  {
   "cell_type": "markdown",
   "id": "93dbf2c9-f629-46d0-acdc-484d0b80de34",
   "metadata": {
    "slideshow": {
     "slide_type": "slide"
    }
   },
   "source": [
    "## Envelope\n",
    "\n",
    "> Returns a GeoSeries of geometries representing the point or smallest rectangular polygon (with sides parallel to the coordinate axes) that contains each object. Source: https://geopandas.org/geometric_manipulations.html#GeoSeries.boundary"
   ]
  },
  {
   "cell_type": "code",
   "execution_count": null,
   "id": "252ad5cb-e54c-446a-ad51-09409a80c00a",
   "metadata": {
    "slideshow": {
     "slide_type": "slide"
    },
    "tags": []
   },
   "outputs": [],
   "source": [
    "fig, ax = plt.subplots(figsize=(7, 7))\n",
    "\n",
    "gdf.plot(\n",
    "    ax=ax, \n",
    ")\n",
    "\n",
    "gdf.envelope.plot(ax=ax, facecolor=\"none\", alpha=0.7,edgecolor='red', linewidth=3)\n",
    "\n",
    "plt.title('Envelope');"
   ]
  },
  {
   "cell_type": "markdown",
   "id": "c128256f-5ab1-4a39-ace1-1d4d5ce5e35e",
   "metadata": {
    "slideshow": {
     "slide_type": "slide"
    }
   },
   "source": [
    "## Simplify\n",
    "\n",
    "> Returns a GeoSeries containing a simplified representation of each object. Source: https://geopandas.org/geometric_manipulations.html#GeoSeries.boundary"
   ]
  },
  {
   "cell_type": "code",
   "execution_count": null,
   "id": "f2427c7c-3672-4caf-b594-18d79cc28cec",
   "metadata": {
    "slideshow": {
     "slide_type": "slide"
    },
    "tags": []
   },
   "outputs": [],
   "source": [
    "fig, ax = plt.subplots(figsize=(5, 5))\n",
    "gdf.plot(ax=ax)\n",
    "\n",
    "gdf.simplify(10_000).plot(ax=ax, facecolor=\"none\", alpha=0.7, edgecolor='red',  linewidth=3)\n",
    "\n",
    "plt.title('Simplify');"
   ]
  },
  {
   "cell_type": "markdown",
   "id": "35a3d48e",
   "metadata": {
    "slideshow": {
     "slide_type": "slide"
    }
   },
   "source": [
    "# Spatial Join\n",
    "\n",
    "> A spatial join uses binary predicates such as intersects and crosses to combine two GeoDataFrames based on the spatial relationship between their geometries.\n",
    "\n",
    "> A common use case might be a spatial join between a point layer and a polygon layer where you want to retain the point geometries and grab the attributes of the intersecting polygons.\n",
    "\n",
    "![spatial-join](https://web.natur.cuni.cz/~langhamr/lectures/vtfg1/mapinfo_1/about_gis/Image23.gif)\n",
    "\n",
    "\n",
    "Can use **Spatial Join** for a **[Point-in-Polygon analysis](http://wiki.gis.com/wiki/index.php/Point_in_polygon)**. "
   ]
  },
  {
   "cell_type": "code",
   "execution_count": null,
   "id": "7679ef2b",
   "metadata": {
    "slideshow": {
     "slide_type": "slide"
    }
   },
   "outputs": [],
   "source": [
    "nyc_census_tracts = gpd.read_file(\n",
    "    'https://data.cityofnewyork.us/api/geospatial/fxpq-c8ku?method=export&format=GeoJSON')\n",
    "\n",
    "nyc_census_tracts = nyc_census_tracts[['boro_ct2010', 'geometry']]"
   ]
  },
  {
   "cell_type": "code",
   "execution_count": null,
   "id": "0edea95d",
   "metadata": {
    "scrolled": true
   },
   "outputs": [],
   "source": [
    "nyc_census_tracts.head(10)"
   ]
  },
  {
   "cell_type": "code",
   "execution_count": null,
   "id": "d239aa2e",
   "metadata": {
    "scrolled": true,
    "slideshow": {
     "slide_type": "slide"
    }
   },
   "outputs": [],
   "source": [
    "nyc_census_tracts.plot(figsize=(6, 6));"
   ]
  },
  {
   "cell_type": "code",
   "execution_count": null,
   "id": "3fb8360a",
   "metadata": {
    "slideshow": {
     "slide_type": "slide"
    }
   },
   "outputs": [],
   "source": [
    "hotels_2020 = gpd.read_file(  # https://medium.com/@nygeog/data-science-data-focus-scraped-nyc-hotel-room-counts-for-covid19-response-quarantine-housing-8cc08c4d084a\n",
    "    'https://raw.githubusercontent.com/autoceqr/get_nyc_hotels/master/data/nyc_hotels.geojson')\n",
    "\n",
    "hotels_2020 = hotels_2020[['hotel_id', 'geometry', 'num_rooms']]\n",
    "hotels_2020.head(5)"
   ]
  },
  {
   "cell_type": "code",
   "execution_count": null,
   "id": "86811927",
   "metadata": {
    "scrolled": true
   },
   "outputs": [],
   "source": [
    "hotels_2020['num_rooms'].hist(bins=10, color='purple');"
   ]
  },
  {
   "cell_type": "code",
   "execution_count": null,
   "id": "7b6b5710",
   "metadata": {
    "scrolled": true,
    "slideshow": {
     "slide_type": "slide"
    }
   },
   "outputs": [],
   "source": [
    "hotels_2020.plot(color='red', figsize=(6, 6));"
   ]
  },
  {
   "cell_type": "code",
   "execution_count": null,
   "id": "94b003c3",
   "metadata": {
    "scrolled": true,
    "slideshow": {
     "slide_type": "slide"
    }
   },
   "outputs": [],
   "source": [
    "sj_gdf = gpd.sjoin(  # <- SJOIN == SPATIAL JOIN\n",
    "    hotels_2020,\n",
    "    nyc_census_tracts, how=\"right\") \n",
    "\n",
    "# going to preserve tracts, to keep tracts w/ out hotels in DataFrame\n",
    "\n",
    "sj_gdf.head(15)"
   ]
  },
  {
   "cell_type": "code",
   "execution_count": null,
   "id": "494f8ede",
   "metadata": {
    "scrolled": true,
    "slideshow": {
     "slide_type": "slide"
    }
   },
   "outputs": [],
   "source": [
    "# count hotels in tracts\n",
    "\n",
    "count_hotels_in_tracts = sj_gdf[['boro_ct2010', 'hotel_id']].groupby(\n",
    "    ['boro_ct2010'], as_index=False).count()\n",
    "\n",
    "count_hotels_in_tracts.rename(columns={'hotel_id': 'num_hotels'}, inplace=True)\n",
    "count_hotels_in_tracts.sort_values('num_hotels', ascending=False)"
   ]
  },
  {
   "cell_type": "code",
   "execution_count": null,
   "id": "4e3f2028",
   "metadata": {
    "scrolled": true,
    "slideshow": {
     "slide_type": "slide"
    }
   },
   "outputs": [],
   "source": [
    "# count total hotel rooms in tracts\n",
    "\n",
    "count_rooms_in_tracts = sj_gdf[['boro_ct2010','num_rooms']].groupby(\n",
    "    ['boro_ct2010'], as_index=False).sum()\n",
    "count_rooms_in_tracts.sort_values('num_rooms', ascending=False)"
   ]
  },
  {
   "cell_type": "code",
   "execution_count": null,
   "id": "b7f81053",
   "metadata": {
    "slideshow": {
     "slide_type": "slide"
    }
   },
   "outputs": [],
   "source": [
    "# merge (join) our tables\n",
    "\n",
    "nyc_census_tracts_with_hotel_data = nyc_census_tracts.merge(\n",
    "    count_hotels_in_tracts, on='boro_ct2010', how='left').merge(\n",
    "        count_rooms_in_tracts, on='boro_ct2010', how='left')"
   ]
  },
  {
   "cell_type": "code",
   "execution_count": null,
   "id": "bc1bd7be",
   "metadata": {
    "scrolled": true,
    "slideshow": {
     "slide_type": "slide"
    }
   },
   "outputs": [],
   "source": [
    "nyc_census_tracts_with_hotel_data.sort_values(['num_hotels', 'num_rooms'], ascending=[False, False]) "
   ]
  },
  {
   "cell_type": "code",
   "execution_count": null,
   "id": "f5235e86",
   "metadata": {
    "scrolled": true,
    "slideshow": {
     "slide_type": "slide"
    }
   },
   "outputs": [],
   "source": [
    "# number of hotels in census tracts\n",
    "nyc_census_tracts_with_hotel_data.plot(\n",
    "    column='num_hotels', colormap=\"Reds\", legend=True, figsize=(8, 6));"
   ]
  },
  {
   "cell_type": "code",
   "execution_count": null,
   "id": "2041ba99",
   "metadata": {
    "scrolled": true,
    "slideshow": {
     "slide_type": "slide"
    }
   },
   "outputs": [],
   "source": [
    "# number of hotel rooms in census tracts\n",
    "nyc_census_tracts_with_hotel_data.plot(\n",
    "    column='num_rooms', cmap='PuRd', legend=True, figsize=(8, 6));"
   ]
  },
  {
   "cell_type": "markdown",
   "id": "17a70e2d-115e-45e7-aac1-fe87999845ed",
   "metadata": {
    "slideshow": {
     "slide_type": "slide"
    },
    "tags": []
   },
   "source": [
    "# Set-Operations with Overlay\n",
    "\n",
    "> When working with multiple spatial datasets – especially multiple polygon or line datasets – users often wish to create new shapes based on places where those datasets overlap (or don’t overlap). These manipulations are often referred using the language of sets – intersections, unions, and differences. These types of operations are made available in the geopandas library through the overlay function.\n",
    "\n",
    "\n",
    "![overlay](https://geopandas.org/_images/overlay_operations.png)\n",
    "_Source: [https://geopandas.org/set_operations.html](https://geopandas.org/set_operations.html)_\n"
   ]
  },
  {
   "cell_type": "markdown",
   "id": "dd833270",
   "metadata": {
    "slideshow": {
     "slide_type": "slide"
    }
   },
   "source": [
    "> The basic idea is demonstrated by the graphic below but keep in mind that overlays operate at the DataFrame level, not on individual geometries, and the properties from both are retained. In effect, for every shape in the first GeoDataFrame, this operation is executed against every other shape in the other GeoDataFrame. Source: https://geopandas.org/set_operations.html\n",
    "\n",
    "#### These Relationships follow the DE-9IM model\n",
    "\n",
    "> The Dimensionally Extended nine-Intersection Model (DE-9IM) is a topological model and a standard used to describe the spatial relations of two regions (two geometries in two-dimensions, R2), in geometry, point-set topology, geospatial topology, and fields related to computer spatial analysis. The spatial relations expressed by the model are invariant to rotation, translation and scaling transformations. Source: https://en.wikipedia.org/wiki/DE-9IM"
   ]
  },
  {
   "cell_type": "code",
   "execution_count": null,
   "id": "16bc89de-005d-4501-9219-58c4cee46b73",
   "metadata": {
    "slideshow": {
     "slide_type": "slide"
    },
    "tags": []
   },
   "outputs": [],
   "source": [
    "from IPython.display import IFrame\n",
    "\n",
    "IFrame(src='https://en.wikipedia.org/wiki/DE-9IM', width=1000, height=600)"
   ]
  },
  {
   "cell_type": "code",
   "execution_count": null,
   "id": "1d6dcb73-9d56-41f6-87e3-e2bc7b01d55c",
   "metadata": {
    "slideshow": {
     "slide_type": "slide"
    },
    "tags": []
   },
   "outputs": [],
   "source": [
    "import geopandas\n",
    "from shapely.geometry import Polygon\n",
    "# WE HAVE THESE 2 SETS OF POLYGON LAYERS EACH WITH 2 FEATURES\n",
    "polys1 = geopandas.GeoSeries([\n",
    "    Polygon([(0,0), (2,0), (2,2), (0,2)]),\n",
    "    Polygon([(2,2), (4,2), (4,4), (2,4)])])\n",
    "\n",
    "polys2 = geopandas.GeoSeries([\n",
    "    Polygon([(1,1), (3,1), (3,3), (1,3)]),\n",
    "    Polygon([(3,3), (5,3), (5,5), (3,5)])])\n",
    "\n",
    "df1 = geopandas.GeoDataFrame({'geometry': polys1, 'df1':[1,2]})\n",
    "df2 = geopandas.GeoDataFrame({'geometry': polys2, 'df2':[1,2]})\n",
    "\n",
    "ax = df1.plot(color='red', figsize=(5, 5));\n",
    "df2.plot(ax=ax, color='green', alpha=0.5);"
   ]
  },
  {
   "cell_type": "markdown",
   "id": "d8f87b60-81fb-40f4-a605-18e82370cc93",
   "metadata": {
    "slideshow": {
     "slide_type": "slide"
    },
    "tags": []
   },
   "source": [
    "# Union\n",
    "\n",
    "> The output feature class will contain polygons representing the geometric union of all the inputs as well as all the fields from all the input feature classes. See below for examples of how attribute values are assigned to the output features. Source: https://desktop.arcgis.com/en/arcmap/10.3/tools/analysis-toolbox/how-union-analysis-works.htm\n",
    "\n",
    "![esri_union](https://desktop.arcgis.com/en/arcmap/10.3/tools/analysis-toolbox/GUID-F81C8E85-1DA1-4857-B872-6CE30DDE3984-web.png)"
   ]
  },
  {
   "cell_type": "code",
   "execution_count": null,
   "id": "5b5e2158-5b2b-4fd3-a4db-15e06a7849c2",
   "metadata": {
    "slideshow": {
     "slide_type": "slide"
    },
    "tags": []
   },
   "outputs": [],
   "source": [
    "res_union = geopandas.overlay(df1, df2, \n",
    "    how='union')\n",
    "res_union  # FOR UNION - ALL AREAS ARE OUTPUTED, SLICED BY OVERLAP BORDERS"
   ]
  },
  {
   "cell_type": "code",
   "execution_count": null,
   "id": "a4dd54f7-7aa3-43df-84cc-3d7184f9207b",
   "metadata": {
    "tags": []
   },
   "outputs": [],
   "source": [
    "ax = res_union.plot(alpha=0.5, cmap='tab10', figsize=(7, 7))\n",
    "df1.plot(ax=ax, facecolor='none', edgecolor='k');\n",
    "df2.plot(ax=ax, facecolor='none', edgecolor='k');"
   ]
  },
  {
   "cell_type": "markdown",
   "id": "36155ec9-bb56-47ba-9f21-893dd1ed5afc",
   "metadata": {
    "slideshow": {
     "slide_type": "slide"
    }
   },
   "source": [
    "## Intersect\n",
    "\n",
    "> The Intersect tool calculates the geometric intersection of any number of feature classes and feature layers. The features, or portion of features, that are **common** **(or shared)** to all inputs (that is, they intersect) will be written to the output feature class. Source: https://desktop.arcgis.com/en/arcmap/10.3/tools/analysis-toolbox/how-intersect-analysis-works.htm\n",
    "\n",
    "\n",
    "\n"
   ]
  },
  {
   "cell_type": "markdown",
   "id": "fac1e7aa",
   "metadata": {
    "slideshow": {
     "slide_type": "slide"
    }
   },
   "source": [
    "Diagrams below from: https://desktop.arcgis.com/en/arcmap/10.3/tools/analysis-toolbox/how-intersect-analysis-works.htm\n",
    "\n",
    "##### Polygon inputs and polygon output\n",
    "![esri_intersect_poly_poly](https://desktop.arcgis.com/en/arcmap/10.3/tools/analysis-toolbox/GUID-706759C5-5FA8-4130-B703-73217BD2752C-web.gif)"
   ]
  },
  {
   "cell_type": "markdown",
   "id": "5d126a0c",
   "metadata": {
    "slideshow": {
     "slide_type": "slide"
    }
   },
   "source": [
    "##### Line inputs\n",
    "![esri_intersect_line_line](https://desktop.arcgis.com/en/arcmap/10.3/tools/analysis-toolbox/GUID-3497102D-B719-48B1-80AA-8A3CB9099272-web.gif)\n",
    "\n",
    "##### Line inputs and point output\n",
    "![esri_intersect_line_point](https://desktop.arcgis.com/en/arcmap/10.3/tools/analysis-toolbox/GUID-532D07A6-3CEB-4802-A6BE-444656EFC1D1-web.gif)\n",
    "\n"
   ]
  },
  {
   "cell_type": "markdown",
   "id": "0c4abc53",
   "metadata": {
    "slideshow": {
     "slide_type": "slide"
    }
   },
   "source": [
    "##### Point inputs\n",
    "![esri_intersect_point_point](https://desktop.arcgis.com/en/arcmap/10.3/tools/analysis-toolbox/GUID-6198BED6-DF77-4F42-84DB-65C75D154DEC-web.gif)\n",
    "\n",
    "Diagrams above from: https://desktop.arcgis.com/en/arcmap/10.3/tools/analysis-toolbox/how-intersect-analysis-works.htm\n"
   ]
  },
  {
   "cell_type": "code",
   "execution_count": null,
   "id": "67a85d44-1024-4227-b934-165099d649c4",
   "metadata": {
    "slideshow": {
     "slide_type": "slide"
    },
    "tags": []
   },
   "outputs": [],
   "source": [
    "res_intersection = geopandas.overlay(\n",
    "    df1, \n",
    "    df2, \n",
    "    how='intersection')"
   ]
  },
  {
   "cell_type": "code",
   "execution_count": null,
   "id": "67a645cb-8cea-49d9-ad2a-c1f016f40b22",
   "metadata": {
    "tags": []
   },
   "outputs": [],
   "source": [
    "res_intersection"
   ]
  },
  {
   "cell_type": "code",
   "execution_count": null,
   "id": "1c8f99ca-609b-4b42-bed5-112893cb0a48",
   "metadata": {
    "tags": []
   },
   "outputs": [],
   "source": [
    "ax = res_intersection.plot(cmap='tab10', figsize=(6, 6))\n",
    "\n",
    "df1.plot(ax=ax, facecolor='none', edgecolor='k');\n",
    "df2.plot(ax=ax, facecolor='none', edgecolor='k');"
   ]
  },
  {
   "cell_type": "markdown",
   "id": "8d9b5fe8-9b00-4e63-b3b3-7ba12c94f536",
   "metadata": {
    "slideshow": {
     "slide_type": "slide"
    }
   },
   "source": [
    "# Symetrical Difference\n",
    "\n",
    "> Features or portions of features in the input and update features that do not overlap will be written to the output feature class. Source: https://desktop.arcgis.com/en/arcmap/10.3/tools/analysis-toolbox/symmetrical-difference.htm\n",
    "\n",
    "**Inverse** or opposite of the Intersect\n",
    "\n",
    "![symetrical_difference](https://desktop.arcgis.com/en/arcmap/10.3/tools/analysis-toolbox/GUID-71AC8941-636E-48AD-9C3F-942D4F8F520B-web.gif)"
   ]
  },
  {
   "cell_type": "code",
   "execution_count": null,
   "id": "b2b7927f-4ba1-4970-86a8-ff3fe4296b84",
   "metadata": {
    "slideshow": {
     "slide_type": "slide"
    },
    "tags": []
   },
   "outputs": [],
   "source": [
    "res_symdiff = geopandas.overlay(\n",
    "    df1, \n",
    "    df2, \n",
    "    how='symmetric_difference')\n",
    "\n",
    "res_symdiff"
   ]
  },
  {
   "cell_type": "code",
   "execution_count": null,
   "id": "20cdef30-2d1c-47ca-a772-4e3d9d2d976d",
   "metadata": {
    "tags": []
   },
   "outputs": [],
   "source": [
    "ax = res_symdiff.plot(cmap='tab10', figsize=(6, 6))\n",
    "\n",
    "df1.plot(ax=ax, facecolor='none', edgecolor='k');\n",
    "df2.plot(ax=ax, facecolor='none', edgecolor='k');"
   ]
  },
  {
   "cell_type": "markdown",
   "id": "ef2e91a9-8896-41ae-b42a-6d6f5ebea9f0",
   "metadata": {
    "slideshow": {
     "slide_type": "slide"
    }
   },
   "source": [
    "# Difference\n",
    "\n",
    "Seems most similar to Esri's **Erase** overlay function. \n",
    "\n",
    "> Creates a feature class by overlaying the Input Features with the polygons of the Erase Features. Only those portions of the input features falling outside the erase features outside boundaries are copied to the output feature class. Source: https://desktop.arcgis.com/en/arcmap/10.3/tools/analysis-toolbox/erase.htm\n",
    "\n",
    "![difference_erase](https://desktop.arcgis.com/en/arcmap/10.3/tools/analysis-toolbox/GUID-40F0B845-07D7-4269-8E32-A5977821ADA2-web.gif)"
   ]
  },
  {
   "cell_type": "code",
   "execution_count": null,
   "id": "58d515ee-8902-42cf-b8c7-0e951739c3f2",
   "metadata": {
    "slideshow": {
     "slide_type": "slide"
    },
    "tags": []
   },
   "outputs": [],
   "source": [
    "res_difference = geopandas.overlay(\n",
    "    df1, \n",
    "    df2, \n",
    "    how='difference')\n",
    "\n",
    "res_difference  # ANY AREAS THAT DON'T OVERLAP - USE THE SECOND FEATURE TO ERASE FROM 1ST FEATURE"
   ]
  },
  {
   "cell_type": "code",
   "execution_count": null,
   "id": "d2c03289-933b-4928-b951-df15a4f1f2e9",
   "metadata": {
    "tags": []
   },
   "outputs": [],
   "source": [
    "ax = res_difference.plot(cmap='tab10', figsize=(6, 6))\n",
    "\n",
    "df1.plot(ax=ax, facecolor='none', edgecolor='k')\n",
    "df2.plot(ax=ax, facecolor='none', edgecolor='k');"
   ]
  },
  {
   "cell_type": "markdown",
   "id": "7832c6cd-6226-44af-a46d-5e5eb210ca89",
   "metadata": {
    "slideshow": {
     "slide_type": "slide"
    }
   },
   "source": [
    "# Dissolve \n",
    "https://geopandas.org/aggregation_with_dissolve.html\n",
    "\n",
    "![dissolve](https://desktop.arcgis.com/en/arcmap/latest/tools/data-management-toolbox/GUID-B1553328-7E02-4A67-ABC9-2391F5D6C2CC-web.png)\n",
    "\n",
    "Aggregates features based on specified attributes.\n",
    "Source: https://desktop.arcgis.com/en/arcmap/latest/tools/data-management-toolbox/dissolve.htm"
   ]
  },
  {
   "cell_type": "code",
   "execution_count": null,
   "id": "f170f2cf-db7f-478d-b28e-9f2a8b810e9b",
   "metadata": {
    "slideshow": {
     "slide_type": "slide"
    },
    "tags": []
   },
   "outputs": [],
   "source": [
    "countries = geopandas.read_file(geopandas.datasets.get_path('naturalearth_lowres'))"
   ]
  },
  {
   "cell_type": "code",
   "execution_count": null,
   "id": "828fbf75-8a45-454b-a061-c234fa715620",
   "metadata": {
    "tags": []
   },
   "outputs": [],
   "source": [
    "countries.plot(cmap='tab10', figsize=(10, 10));"
   ]
  },
  {
   "cell_type": "markdown",
   "id": "b0039cf2",
   "metadata": {
    "slideshow": {
     "slide_type": "slide"
    }
   },
   "source": [
    "#### Dissolve"
   ]
  },
  {
   "cell_type": "code",
   "execution_count": null,
   "id": "b6866497-cee8-485e-917c-83a4a71450c8",
   "metadata": {
    "slideshow": {
     "slide_type": "-"
    },
    "tags": []
   },
   "outputs": [],
   "source": [
    "countries = countries[['continent', 'geometry']]"
   ]
  },
  {
   "cell_type": "code",
   "execution_count": null,
   "id": "1df36aa0-938b-4f37-a64b-f7a93ff7327a",
   "metadata": {
    "tags": []
   },
   "outputs": [],
   "source": [
    "continents = countries.dissolve(by='continent')"
   ]
  },
  {
   "cell_type": "code",
   "execution_count": null,
   "id": "2353e526-3de8-4238-9b1a-9b65209a98ec",
   "metadata": {
    "tags": []
   },
   "outputs": [],
   "source": [
    "continents.plot(cmap='tab10', figsize=(10, 10));"
   ]
  },
  {
   "cell_type": "markdown",
   "id": "55a00fce-4101-4e81-b760-3f58ae88f578",
   "metadata": {
    "slideshow": {
     "slide_type": "slide"
    }
   },
   "source": [
    "## Dissolve and Sum"
   ]
  },
  {
   "cell_type": "code",
   "execution_count": null,
   "id": "10653d29-ce32-4831-a491-6a80c032671b",
   "metadata": {
    "tags": []
   },
   "outputs": [],
   "source": [
    "countries = geopandas.read_file(geopandas.datasets.get_path('naturalearth_lowres'))\n",
    "countries.head(14)"
   ]
  },
  {
   "cell_type": "code",
   "execution_count": null,
   "id": "0fd649a9-82f7-4346-aec6-2f6d6c126045",
   "metadata": {
    "slideshow": {
     "slide_type": "slide"
    },
    "tags": []
   },
   "outputs": [],
   "source": [
    "continents = countries.dissolve(\n",
    "    by='continent', \n",
    "    aggfunc='sum')\n",
    "continents"
   ]
  },
  {
   "cell_type": "code",
   "execution_count": null,
   "id": "99481ff6-c191-448e-89e2-e1a1109787e7",
   "metadata": {
    "tags": []
   },
   "outputs": [],
   "source": [
    "continents.plot(\n",
    "    column = 'pop_est', \n",
    "    scheme='quantiles', \n",
    "    cmap='YlOrRd', \n",
    "    figsize=(10, 10),\n",
    ");"
   ]
  },
  {
   "cell_type": "markdown",
   "id": "0c009f37-6f8a-4e78-a20c-1ce426304cc8",
   "metadata": {
    "slideshow": {
     "slide_type": "slide"
    }
   },
   "source": [
    "# Merging Data"
   ]
  },
  {
   "cell_type": "markdown",
   "id": "59247601-2aa4-461d-8a2d-dc344a6bde75",
   "metadata": {
    "slideshow": {
     "slide_type": "slide"
    },
    "tags": []
   },
   "source": [
    "# Spatial Joins \n",
    "\n",
    "https://geopandas.org/mergingdata.html"
   ]
  },
  {
   "cell_type": "code",
   "execution_count": null,
   "id": "d327aa23-e360-405a-8d9d-c0a7b12fd593",
   "metadata": {
    "slideshow": {
     "slide_type": "slide"
    },
    "tags": []
   },
   "outputs": [],
   "source": [
    "world = geopandas.read_file(geopandas.datasets.get_path('naturalearth_lowres'))\n",
    "\n",
    "cities = geopandas.read_file(geopandas.datasets.get_path('naturalearth_cities'))\n",
    "\n",
    "countries = world[['geometry', 'name', 'pop_est', 'gdp_md_est']]\n",
    "countries = countries.rename(columns={'name':'country'})"
   ]
  },
  {
   "cell_type": "code",
   "execution_count": null,
   "id": "2769ec65-c71f-457f-9f6f-8f2b31212a03",
   "metadata": {
    "slideshow": {
     "slide_type": "-"
    },
    "tags": []
   },
   "outputs": [],
   "source": [
    "cities.plot(color='red');"
   ]
  },
  {
   "cell_type": "code",
   "execution_count": null,
   "id": "aae3a988-a96a-4a02-bde6-5d3309c832bb",
   "metadata": {
    "slideshow": {
     "slide_type": "-"
    },
    "tags": []
   },
   "outputs": [],
   "source": [
    "countries.plot();"
   ]
  },
  {
   "cell_type": "code",
   "execution_count": null,
   "id": "8e3c75fc-4a85-4e4b-8661-e05bc142a396",
   "metadata": {
    "slideshow": {
     "slide_type": "slide"
    },
    "tags": []
   },
   "outputs": [],
   "source": [
    "countries.head()"
   ]
  },
  {
   "cell_type": "code",
   "execution_count": null,
   "id": "36fd0261-a3b3-4e59-a96e-07403088d2c6",
   "metadata": {
    "slideshow": {
     "slide_type": "-"
    },
    "tags": []
   },
   "outputs": [],
   "source": [
    "cities.head()"
   ]
  },
  {
   "cell_type": "markdown",
   "id": "b75601d6-c4c3-441c-b668-d94640133b72",
   "metadata": {
    "slideshow": {
     "slide_type": "slide"
    }
   },
   "source": [
    "#### Spatial Join to capture the Countries Data, specifically GDP, we want to \"JOIN\" Country GDP to the Cities"
   ]
  },
  {
   "cell_type": "code",
   "execution_count": null,
   "id": "c5bf019c-71ab-4803-9081-bcbb25a1c5db",
   "metadata": {
    "tags": []
   },
   "outputs": [],
   "source": [
    "cities_with_country = geopandas.sjoin(\n",
    "    cities, \n",
    "    countries, \n",
    "    how=\"inner\", \n",
    "    op='intersects')"
   ]
  },
  {
   "cell_type": "markdown",
   "id": "681825a4-e40a-440a-bfb2-3893b8c4333d",
   "metadata": {
    "slideshow": {
     "slide_type": "-"
    },
    "tags": []
   },
   "source": [
    "#### Let's look at the Spatially Joined Output"
   ]
  },
  {
   "cell_type": "code",
   "execution_count": null,
   "id": "ccdf0573-a0e4-4bdb-b691-b8d5dfce3bc6",
   "metadata": {
    "tags": []
   },
   "outputs": [],
   "source": [
    "cities_with_country.head(20)"
   ]
  },
  {
   "cell_type": "markdown",
   "id": "c5cf4c08-007f-4d51-89cb-5d90758e143d",
   "metadata": {
    "slideshow": {
     "slide_type": "slide"
    },
    "tags": []
   },
   "source": [
    "#### Let's look at the output Geometry"
   ]
  },
  {
   "cell_type": "code",
   "execution_count": null,
   "id": "758d7588-e198-4dfb-9da6-c971e4fca200",
   "metadata": {
    "tags": []
   },
   "outputs": [],
   "source": [
    "cities_with_country.plot(color='red');"
   ]
  },
  {
   "cell_type": "markdown",
   "id": "a59ddf4a-4206-4a0b-90b3-1a8a9130284c",
   "metadata": {
    "slideshow": {
     "slide_type": "slide"
    }
   },
   "source": [
    "#### Plotting our GDP values assigned to Cities as a Graduated Symbol"
   ]
  },
  {
   "cell_type": "code",
   "execution_count": null,
   "id": "eff916b9-0ef9-41a3-83e8-cccec193e6c0",
   "metadata": {
    "tags": []
   },
   "outputs": [],
   "source": [
    "fig, ax = plt.subplots(figsize=(10, 4))\n",
    "\n",
    "countries.plot(ax=ax, facecolor='gray')\n",
    "\n",
    "cities_with_country.plot(\n",
    "    ax=ax,\n",
    "    column='gdp_md_est', \n",
    "    scheme='quantiles',\n",
    "    legend=True,\n",
    "    cmap='Greens',\n",
    "    edgecolor='white',\n",
    "    alpha=0.6,\n",
    "    markersize=cities_with_country['gdp_md_est']/5000.,\n",
    "    legend_kwds={\n",
    "        \"title\": 'GDP',\n",
    "        \"loc\": 4})\n",
    "\n",
    "plt.title('Gross Domestic Product (GDP) - 2016', {'fontsize': 27});\n",
    "plt.savefig('img/gdp.png')"
   ]
  },
  {
   "cell_type": "markdown",
   "id": "a98f5731-67f7-4d6d-9c66-7a564c847c9d",
   "metadata": {
    "slideshow": {
     "slide_type": "slide"
    }
   },
   "source": [
    "# Raster Data Model"
   ]
  },
  {
   "cell_type": "markdown",
   "id": "dbab6789-d637-4a20-aa74-a1d74956c593",
   "metadata": {
    "slideshow": {
     "slide_type": "slide"
    }
   },
   "source": [
    "\n",
    "### Raster\n",
    "\n",
    "> [Rasters] are frequently represented as a continuous grid of square cells, each containing a value indicating the (estimated) average height or strength of the field in that cell. In most of the literature and within software packages the points/ lines/ areas model is described as vector data, whilst the grid model is described as raster (or image) data. Source: https://www.spatialanalysisonline.com/HTML/index.html\n",
    "\n"
   ]
  },
  {
   "cell_type": "markdown",
   "id": "050c0cee",
   "metadata": {
    "slideshow": {
     "slide_type": "slide"
    }
   },
   "source": [
    "\n",
    "> #### Raster Basics\n",
    "> A raster is a rectangular grid of pixels with values that can continuous (e.g. elevation) or categorical (e.g. land use). This data structure is very common - jpg images on the web, photos from your digital camera, and the jupyterhub icon are all rasters. Source: https://github.com/geohackweek/raster-2019/blob/master/notebooks/0-introduction.ipynb\n",
    "\n",
    "> Common properties of any raster:\n",
    "number of rows and columns (sometimes referred to as lines and samples)\n",
    "data type (dtype, or bit depth) - e.g., **8-bit (2^8 possible values, 0-255)**\n",
    "some kind of resolution information, often dots per inch (dpi) with raster graphics\n",
    "A geospatial raster is only different from a digital photo in that it is accompanied by metadata that connects the grid to a particular location. Source: https://github.com/geohackweek/raster-2019/blob/master/notebooks/0-introduction.ipynb\n",
    "\n",
    "\n"
   ]
  },
  {
   "cell_type": "markdown",
   "id": "62af131f",
   "metadata": {
    "slideshow": {
     "slide_type": "slide"
    }
   },
   "source": [
    "> ![raster_data_model](https://github.com/geohackweek/raster-2019/raw/9fb57bde646eb98b881e0429e6a70ff4f8d077e1/assets/raster_concept.png)\n",
    "_Source: National Ecological Observatory Network (NEON) via: [https://github.com/geohackweek/raster-2019/blob/master/notebooks/0-introduction.ipynb](https://github.com/geohackweek/raster-2019/blob/master/notebooks/0-introduction.ipynb)_\n"
   ]
  },
  {
   "cell_type": "markdown",
   "id": "e1b1e000",
   "metadata": {
    "slideshow": {
     "slide_type": "slide"
    }
   },
   "source": [
    "\n",
    "> ##### Examples of categorical rasters\n",
    "Some rasters contain **categorical data** where each pixel represents a discrete class such as a landcover type (e.g., \"coniferous forest\" or \"grassland\") rather than a **continuous value** such as elevation or temperature. Some examples of classified maps include:\n",
    "* Landcover / land-use maps.\n",
    "* Snowcover masks (binary snow or no snow)\n",
    "\n",
    "> The following map shows elevation data for the NEON Harvard Forest field site. In this map, the elevation data (a continuous variable) has been divided up into categories to yield a categorical raster.  Source: https://github.com/geohackweek/raster-2019/blob/master/notebooks/0-introduction.ipynb\n"
   ]
  },
  {
   "cell_type": "markdown",
   "id": "d8c9c4b9",
   "metadata": {
    "slideshow": {
     "slide_type": "slide"
    }
   },
   "source": [
    "### Land Use Raster (Discrete)\n",
    "\n",
    "> ![category_raster](https://datacarpentry.org/organization-geospatial/fig/USA_landcover_classification.png)\n",
    "_Source: Homer, C.G., et al., 2015, Completion of the 2011 National Land Cover Database for the conterminous United States-Representing a decade of land cover change information. Photogrammetric Engineering and Remote Sensing, v. 81, no. 5, p. 345-354) via [https://datacarpentry.org/organization-geospatial/01-intro-raster-data/index.html](https://datacarpentry.org/organization-geospatial/01-intro-raster-data/index.html)_\n",
    "\n"
   ]
  },
  {
   "cell_type": "markdown",
   "id": "7b8b0279",
   "metadata": {
    "slideshow": {
     "slide_type": "slide"
    }
   },
   "source": [
    "### Digital Elevation Raster (Continuous)\n",
    "\n",
    "![dem](https://gisgeography.com/wp-content/uploads/2016/04/SRTM-550x296.png)\n",
    "Source: https://gisgeography.com/free-global-dem-data-sources/"
   ]
  },
  {
   "cell_type": "markdown",
   "id": "35e2d7ee",
   "metadata": {
    "slideshow": {
     "slide_type": "slide"
    }
   },
   "source": [
    "#### Raster and Resolution \n",
    "\n",
    ">  resolution of a raster represents the area on the ground that each pixel of the raster covers. The image below illustrates the effect of changes in resolution. Source: https://datacarpentry.org/organization-geospatial/01-intro-raster-data/index.html\n",
    "\n",
    "> ![raster_resolution](https://datacarpentry.org/organization-geospatial/fig/dc-spatial-raster/raster_resolution.png)\n",
    "_Source: National Ecological Observatory Network (NEON) via [https://datacarpentry.org/organization-geospatial/01-intro-raster-data/index.html](https://datacarpentry.org/organization-geospatial/01-intro-raster-data/index.html)_\n",
    "\n"
   ]
  },
  {
   "cell_type": "markdown",
   "id": "f3d9ca52",
   "metadata": {
    "slideshow": {
     "slide_type": "slide"
    }
   },
   "source": [
    "#### Multispectral (multiband) Raster\n",
    "\n",
    "> A raster can contain one or more bands. One type of multi-band raster dataset that is familiar to many of us is a color image. A basic color image consists of three bands: red, green, and blue. Each band represents light reflected from the red, green or blue portions of the electromagnetic spectrum. The pixel brightness for each band, when composited creates the colors that we see in an image. Source: https://datacarpentry.org/organization-geospatial/01-intro-raster-data/index.html\n",
    "\n",
    "> ![multispectral_raster](https://datacarpentry.org/organization-geospatial/fig/dc-spatial-raster/RGBSTack_1.jpg)\n",
    "_Source: National Ecological Observatory Network (NEON) via [https://datacarpentry.org/organization-geospatial/01-intro-raster-data/index.html](https://datacarpentry.org/organization-geospatial/01-intro-raster-data/index.html)_\n"
   ]
  },
  {
   "cell_type": "markdown",
   "id": "5ba83c71-9cfc-4022-ac1d-15e146c9351a",
   "metadata": {
    "slideshow": {
     "slide_type": "slide"
    }
   },
   "source": [
    "### Let's compare a two maps, one derived by Vector Data and one derived from Raster Data"
   ]
  },
  {
   "cell_type": "code",
   "execution_count": null,
   "id": "e32b4d74-1d04-431d-b798-74a1d715a6bb",
   "metadata": {
    "slideshow": {
     "slide_type": "slide"
    },
    "tags": []
   },
   "outputs": [],
   "source": [
    "import ipyleaflet  # source: https://github.com/geohackweek/raster-2019/blob/master/notebooks/3-visualization-and-modis.ipynb\n",
    "from ipyleaflet import Map, Rectangle, basemaps, basemap_to_tiles, TileLayer, SplitMapControl, Polygon\n",
    "import ipywidgets\n",
    "import datetime\n",
    "import re\n",
    "bbox = [43.16, -11.32, 43.54, -11.96]\n",
    "west, north, east, south = bbox\n",
    "bbox_ctr = [0.5*(north+south), 0.5*(west+east)]\n",
    "\n",
    "m = Map(center=bbox_ctr, zoom=5)  # MODIS great for large areas (onl)\n",
    "right_layer = basemap_to_tiles(basemaps.NASAGIBS.ModisTerraTrueColorCR, \"2020-04-01\")\n",
    "left_layer = TileLayer()\n",
    "control = SplitMapControl(left_layer=left_layer, right_layer=right_layer)\n",
    "m.add_control(control)\n",
    "m"
   ]
  },
  {
   "cell_type": "markdown",
   "id": "b2995798-abbd-407b-97b7-02f570d8bdd1",
   "metadata": {
    "slideshow": {
     "slide_type": "slide"
    },
    "tags": []
   },
   "source": [
    "### Let's take a look at some very simple Raster Data model"
   ]
  },
  {
   "cell_type": "code",
   "execution_count": null,
   "id": "525634f8-9d82-4ba0-9dd7-0f2c9c714423",
   "metadata": {},
   "outputs": [],
   "source": [
    "import numpy as np\n",
    "import pandas as pd \n",
    "\n",
    "pd.set_option('display.max_rows', 500)\n",
    "pd.set_option('display.max_columns', 500)\n",
    "pd.set_option('display.width', 1000)\n",
    "# let's allow our dataframe printouts in jupyter to be larger"
   ]
  },
  {
   "cell_type": "code",
   "execution_count": null,
   "id": "5b96b71c-c10a-4238-b516-ee4ac5de3de1",
   "metadata": {},
   "outputs": [],
   "source": [
    "simple_image = np.load('data/image_file.npy')   \n",
    "# .npy is a numpy file storage format"
   ]
  },
  {
   "cell_type": "markdown",
   "id": "99a94a5b-de4d-4464-ab1d-c07a9655beaf",
   "metadata": {
    "slideshow": {
     "slide_type": "slide"
    }
   },
   "source": [
    "### What is this simple_image?"
   ]
  },
  {
   "cell_type": "code",
   "execution_count": null,
   "id": "5f438d65-a75d-4548-804c-020f185f52a2",
   "metadata": {
    "tags": []
   },
   "outputs": [],
   "source": [
    "simple_image"
   ]
  },
  {
   "cell_type": "markdown",
   "id": "462cce11-9e06-4703-b930-6bba27f3b272",
   "metadata": {
    "slideshow": {
     "slide_type": "slide"
    },
    "tags": []
   },
   "source": [
    "### Plotting this image data in Pandas aas an .ndarray like a DataFrame?"
   ]
  },
  {
   "cell_type": "code",
   "execution_count": null,
   "id": "e06f1d03-1852-4750-b17c-b6806674d2f3",
   "metadata": {
    "tags": []
   },
   "outputs": [],
   "source": [
    "pd.DataFrame(simple_image).head(28)"
   ]
  },
  {
   "cell_type": "markdown",
   "id": "9387cbd7-b63e-4a76-a6e5-4ea185e2f9e4",
   "metadata": {
    "slideshow": {
     "slide_type": "slide"
    },
    "tags": []
   },
   "source": [
    "### Interesting... Perhaps I can \"show this array\" somehow!"
   ]
  },
  {
   "cell_type": "code",
   "execution_count": null,
   "id": "4465e638-6254-44a7-9101-f1684b83cdfe",
   "metadata": {
    "tags": []
   },
   "outputs": [],
   "source": [
    "import matplotlib.pyplot as plt\n",
    "\n",
    "plt.imshow(simple_image, cmap='gray')\n",
    "plt.show();"
   ]
  },
  {
   "cell_type": "markdown",
   "id": "8f79a3f4-9f4d-41dd-b3b4-b6d97c8e37a6",
   "metadata": {
    "slideshow": {
     "slide_type": "slide"
    }
   },
   "source": [
    "### Let's look at some LANDSAT 8 Data\n",
    "\n",
    "> Bands 2, 3, and 4 are visible blue, green, and red. Source: https://landsat.gsfc.nasa.gov/landsat-8/landsat-8-bands/\n",
    "\n",
    "\n",
    "Much of this is referenced from: https://automating-gis-processes.github.io/CSC/lessons/L5/overview.html"
   ]
  },
  {
   "cell_type": "code",
   "execution_count": null,
   "id": "40842ca0-40f5-4be9-9931-1130825201f5",
   "metadata": {
    "slideshow": {
     "slide_type": "-"
    },
    "tags": []
   },
   "outputs": [],
   "source": [
    "import urllib\n",
    "\n",
    "# https://automating-gis-processes.github.io/CSC/notebooks/L5/reading-raster.html\n",
    "raster_url = 'https://github.com/Automating-GIS-processes/CSC18/raw/master/data/Helsinki_masked_p188r018_7t20020529_z34__LV-FIN.tif'\n",
    "helsinki_local_file = 'data/raster/Helsinki_masked_p188r018_7t20020529_z34__LV-FIN.tif'"
   ]
  },
  {
   "cell_type": "code",
   "execution_count": null,
   "id": "ee84c557",
   "metadata": {},
   "outputs": [],
   "source": [
    "urllib.request.urlretrieve(raster_url, helsinki_local_file)"
   ]
  },
  {
   "cell_type": "markdown",
   "id": "b4884303",
   "metadata": {
    "slideshow": {
     "slide_type": "slide"
    }
   },
   "source": [
    "# Rasterio \n",
    "\n",
    "> Rasterio: access to geospatial raster data\n",
    "    \n",
    "> Geographic information systems use GeoTIFF and other formats to organize and store gridded raster datasets such as satellite imagery and terrain models. Rasterio reads and writes these formats and provides a Python API based on Numpy N-dimensional arrays and GeoJSON.\n",
    "Source: https://rasterio.readthedocs.io/en/latest/index.html"
   ]
  },
  {
   "cell_type": "code",
   "execution_count": null,
   "id": "62b6b08a",
   "metadata": {},
   "outputs": [],
   "source": [
    "import rasterio\n",
    "cog = 'https://nex-gddp-cmip6-cog.s3-us-west-2.amazonaws.com/monthly/CMIP6_ensemble_median/tas/tas_month_ensemble-median_ssp585_205007.tif'\n",
    "\n",
    "dataset = rasterio.open(cog)\n",
    "plt.figure(figsize=(8, 8))\n",
    "plt.imshow(dataset.read(1), cmap='coolwarm')\n",
    "plt.title('2050-07 NSAA GDDP Monthly Temperature at Surface');"
   ]
  },
  {
   "cell_type": "code",
   "execution_count": null,
   "id": "eb4a3946-4595-4187-b653-aa301b0da248",
   "metadata": {
    "slideshow": {
     "slide_type": "-"
    },
    "tags": []
   },
   "outputs": [],
   "source": [
    "import rasterio # Helsinki multi band LANDSAT data\n",
    "\n",
    "dataset = rasterio.open(helsinki_local_file)\n",
    "dataset"
   ]
  },
  {
   "cell_type": "markdown",
   "id": "765f939d",
   "metadata": {
    "slideshow": {
     "slide_type": "slide"
    }
   },
   "source": [
    "####  How many Bands? "
   ]
  },
  {
   "cell_type": "code",
   "execution_count": null,
   "id": "cb589b7e-1985-4f47-863e-3533fd7dff8e",
   "metadata": {
    "slideshow": {
     "slide_type": "-"
    },
    "tags": []
   },
   "outputs": [],
   "source": [
    "dataset.count \n",
    "# number of raster bands"
   ]
  },
  {
   "cell_type": "code",
   "execution_count": null,
   "id": "a28dc3e6-455e-4cdf-ae59-2d25cc34e3cc",
   "metadata": {
    "slideshow": {
     "slide_type": "-"
    },
    "tags": []
   },
   "outputs": [],
   "source": [
    "from matplotlib import pyplot\n",
    "from rasterio.plot import show\n",
    "\n",
    "fig, (axr, axg, axb) = pyplot.subplots(1,3, figsize=(21,7))\n",
    "show((dataset, 3), ax=axr, cmap='Reds', title='red channel')\n",
    "show((dataset, 2), ax=axg, cmap='Greens', title='green channel')\n",
    "show((dataset, 1), ax=axb, cmap='Blues', title='blue channel')\n",
    "pyplot.show()"
   ]
  },
  {
   "cell_type": "code",
   "execution_count": null,
   "id": "1ae15609-b997-480f-aeea-8d2bb2c62269",
   "metadata": {
    "slideshow": {
     "slide_type": "slide"
    },
    "tags": []
   },
   "outputs": [],
   "source": [
    "from rasterio.plot import show_hist\n",
    "\n",
    "show_hist(\n",
    "    dataset, bins=50, lw=0.0, stacked=False, alpha=0.3,\n",
    "    histtype='stepfilled', title=\"Histogram of Bands\")"
   ]
  },
  {
   "cell_type": "code",
   "execution_count": null,
   "id": "64b81523-a0bc-44b8-9842-fafca58f14f8",
   "metadata": {
    "slideshow": {
     "slide_type": "slide"
    },
    "tags": []
   },
   "outputs": [],
   "source": [
    "dataset.bounds"
   ]
  },
  {
   "cell_type": "markdown",
   "id": "f8224fcb-c085-4423-ba74-b63bbbc35f54",
   "metadata": {
    "slideshow": {
     "slide_type": "slide"
    },
    "tags": []
   },
   "source": [
    "## Raster Operations\n",
    "\n",
    "### Raster Math \n",
    "\n",
    "![raster-math](https://desktop.arcgis.com/en/arcmap/10.7/tools/spatial-analyst-toolbox/GUID-D8BD897C-B7A2-46A5-93DC-121409FF4C0D-web.png)\n",
    "\n",
    "Source: https://desktop.arcgis.com/en/arcmap/10.7/tools/spatial-analyst-toolbox/cell-statistics.htm"
   ]
  },
  {
   "cell_type": "markdown",
   "id": "1b4869f9-419d-42c8-91ce-07c3dd372d2e",
   "metadata": {
    "slideshow": {
     "slide_type": "slide"
    }
   },
   "source": [
    "## Sampling Raster Values"
   ]
  },
  {
   "cell_type": "code",
   "execution_count": null,
   "id": "a60aea11-be50-4f83-94df-432b9988a1f4",
   "metadata": {
    "tags": []
   },
   "outputs": [],
   "source": [
    "sample_coordinates = [\n",
    "    (716946.0, 6677364.75),\n",
    "    (713046.0, 6676164.75),\n",
    "    (714846.0, 6666164.75),\n",
    "    (720846.0, 6668164.75),\n",
    "]\n",
    "\n",
    "samples = [x for x in dataset.sample(sample_coordinates)]"
   ]
  },
  {
   "cell_type": "code",
   "execution_count": null,
   "id": "23e72957-4283-43c8-89dd-0feab946eb89",
   "metadata": {
    "tags": []
   },
   "outputs": [],
   "source": [
    "samples"
   ]
  },
  {
   "cell_type": "markdown",
   "id": "f1f8266e-6b71-480a-b040-1f9ccbad6de8",
   "metadata": {
    "slideshow": {
     "slide_type": "slide"
    }
   },
   "source": [
    "## Zonal Statistics "
   ]
  },
  {
   "cell_type": "markdown",
   "id": "895c6053-6d1b-42fd-9e6d-1147d0d97873",
   "metadata": {
    "tags": []
   },
   "source": [
    "![img](https://gisgeography.com/wp-content/uploads/2020/10/Zonal-Statistics.png)\n",
    "\n",
    "Source: https://gisgeography.com/zonal-statistics/\n",
    "\n",
    "\n",
    "Zonal statistics summarizes the cells for a given region or line. \n"
   ]
  },
  {
   "cell_type": "code",
   "execution_count": null,
   "id": "71aded33-2f26-404e-a5b4-a91353d1f4b2",
   "metadata": {
    "tags": []
   },
   "outputs": [],
   "source": [
    "from shapely.geometry import Polygon\n",
    "Polygon(sample_coordinates)"
   ]
  },
  {
   "cell_type": "code",
   "execution_count": null,
   "id": "f0bbcc4b-2f4a-47b2-81fa-016cc2d96e1e",
   "metadata": {
    "slideshow": {
     "slide_type": "slide"
    },
    "tags": []
   },
   "outputs": [],
   "source": [
    "from shapely.geometry import mapping, Polygon\n",
    "import fiona\n",
    "\n",
    "poly = Polygon(sample_coordinates)\n",
    "\n",
    "schema = {'geometry': 'Polygon'}\n",
    "\n",
    "with fiona.open('data/sample_coordinates.shp', 'w', 'ESRI Shapefile', schema) as c:\n",
    "    c.write({'geometry': mapping(poly)})\n",
    "    \n",
    "# save a shapefile with fiona"
   ]
  },
  {
   "cell_type": "code",
   "execution_count": null,
   "id": "c6b9f91d-2c8b-4dbf-8b85-364908288ee1",
   "metadata": {
    "slideshow": {
     "slide_type": "slide"
    },
    "tags": []
   },
   "outputs": [],
   "source": [
    "import geopandas as gpd\n",
    "\n",
    "fig, ax = plt.subplots(figsize=(10, 10))\n",
    "\n",
    "p = gpd.GeoSeries(poly)\n",
    "p.plot(ax=ax, facecolor='none', edgecolor='red')\n",
    "\n",
    "rasterio.plot.show(dataset, ax=ax)\n",
    "plt.show()"
   ]
  },
  {
   "cell_type": "code",
   "execution_count": null,
   "id": "933afc7c-dc6f-4e0a-9ffd-f65e0c1d88a6",
   "metadata": {
    "slideshow": {
     "slide_type": "slide"
    },
    "tags": []
   },
   "outputs": [],
   "source": [
    "from rasterstats import zonal_stats"
   ]
  },
  {
   "cell_type": "markdown",
   "id": "9703a2a0-3d42-461e-b9e7-3f8193e3334a",
   "metadata": {},
   "source": [
    "### Band 1"
   ]
  },
  {
   "cell_type": "code",
   "execution_count": null,
   "id": "b5c12c03-6f82-48fc-a4f0-98fdf0ef20d5",
   "metadata": {
    "tags": []
   },
   "outputs": [],
   "source": [
    "stats = zonal_stats('data/sample_coordinates.shp', helsinki_local_file, band=1, stats=['min', 'max', 'median', 'majority', 'sum'])\n",
    "stats"
   ]
  },
  {
   "cell_type": "markdown",
   "id": "a02908fb-07b7-41e1-8567-a14d0202d6b8",
   "metadata": {},
   "source": [
    "### Band 6"
   ]
  },
  {
   "cell_type": "code",
   "execution_count": null,
   "id": "5990c7e9-1cbc-4df7-9fad-e344ddf1b062",
   "metadata": {
    "tags": []
   },
   "outputs": [],
   "source": [
    "stats = zonal_stats('data/sample_coordinates.shp', helsinki_local_file, band=6, stats=['min', 'max', 'median', 'majority', 'sum'])\n",
    "stats"
   ]
  },
  {
   "cell_type": "markdown",
   "id": "5eb0316d",
   "metadata": {
    "slideshow": {
     "slide_type": "slide"
    }
   },
   "source": [
    "# Geocoding\n",
    "\n",
    "> Geocoding is the process of taking input text, such as an address or the name of a place, and returning a latitude/longitude location on the Earth's surface for that place.[1] Reverse geocoding, on the other hand, converts geographic coordinates to a description of a location, usually the name of a place or an addressable location. Source: https://en.wikipedia.org/wiki/Geocoding\n",
    "\n",
    "![geocoding](https://geospatialmedia.s3.amazonaws.com/wp-content/uploads/2018/05/geocoding-graph.jpg)\n",
    "_Source: Source: SCHOOL ANALYST via [Geospatial World](https://www.geospatialworld.net/blogs/what-is-geocoding-and-how-can-it-help-sell-products/)_\n"
   ]
  },
  {
   "cell_type": "markdown",
   "id": "8d1bd11d",
   "metadata": {
    "slideshow": {
     "slide_type": "slide"
    }
   },
   "source": [
    "> Geocoding relies on a computer representation of address points, the street / road network, together with postal and administrative boundaries. \n",
    "* **Geocode** (verb):[2] provide geographical coordinates corresponding to (a location).\n",
    "* **Geocode** (noun): is a code that represents a geographic entity (location or object). Sometimes the term can be used in a broader sense:[3] the characterization of a neighborhood, locality, etc., according to such demographic features as ethnic composition or the average income or educational level of its inhabitants, especially as used in marketing.\n",
    "* **Geocoder** (noun): a piece of software or a (web) service that implements a geocoding process i.e. a set of interrelated components in the form of operations, algorithms, and data sources that work together to produce a spatial representation for descriptive locational references. \n",
    "\n",
    "\n",
    "\n"
   ]
  },
  {
   "cell_type": "markdown",
   "id": "66e00e6d",
   "metadata": {
    "slideshow": {
     "slide_type": "slide"
    }
   },
   "source": [
    "### Geocode Example Google Maps\n",
    "![geocode_example](https://fiverr-res.cloudinary.com/images/q_auto,f_auto/gigs/140227598/original/d698ad984715b5777e94b3ddb24f3c9ac95176e6/geocode-address-and-return-latitude-and-longitude.png)\n",
    "_Source: [Fiverr](https://www.fiverr.com/roseannhall150/geocode-address-and-return-latitude-and-longitude)_\n",
    "\n",
    "> The geographic coordinates representing locations often vary greatly in positional accuracy. Examples include building centroids, land parcel centroids, interpolated locations based on thoroughfare ranges, street segments centroids, postal code centroids (e.g. ZIP codes, CEDEX), and Administrative division Centroids. Source: https://en.wikipedia.org/wiki/Geocoding"
   ]
  },
  {
   "cell_type": "markdown",
   "id": "3b49a23f",
   "metadata": {
    "slideshow": {
     "slide_type": "slide"
    }
   },
   "source": [
    "## Geocoding with GeoPy\n",
    "\n",
    "\n",
    "### Installing Geopy\n",
    "\n",
    "```$ pip install geopy```\n",
    "\n",
    "\n",
    "### About GeoPy\n",
    "\n",
    "> geopy is a Python 2 and 3 client for several popular geocoding web services. geopy makes it easy for Python developers to locate the coordinates of addresses, cities, countries, and landmarks across the globe using third-party geocoders and other data sources. Source: https://geopy.readthedocs.io/en/stable/\n"
   ]
  },
  {
   "cell_type": "markdown",
   "id": "46fac246",
   "metadata": {
    "slideshow": {
     "slide_type": "slide"
    }
   },
   "source": [
    "### GeoPy Geocoder Services\n",
    "\n",
    "* ArcGIS\n",
    "* AzureMaps\n",
    "* Baidu\n",
    "* BANFrance\n",
    "* Bing\n",
    "* DataBC\n",
    "* GeocodeEarth\n",
    "* GeocodeFarm\n",
    "* Geolake\n",
    "* GeoNames\n",
    "* GoogleV3\n",
    "* HERE\n",
    "* IGNFrance\n",
    "* MapBox\n",
    "* OpenCage\n",
    "* OpenMapQuest\n",
    "* Nominatim\n",
    "* Pelias\n",
    "* Photon\n",
    "* PickPoint\n",
    "* LiveAddress\n",
    "* TomTom\n",
    "* What3Words\n",
    "* Yandex"
   ]
  },
  {
   "cell_type": "code",
   "execution_count": null,
   "id": "09ccddf3",
   "metadata": {
    "slideshow": {
     "slide_type": "slide"
    }
   },
   "outputs": [],
   "source": [
    "import uuid\n",
    "from geopy.geocoders import Nominatim"
   ]
  },
  {
   "cell_type": "markdown",
   "id": "3059533f",
   "metadata": {},
   "source": [
    "#### Create a new variable called `geolocator` as our object of the `Nominatim()` geocoding class"
   ]
  },
  {
   "cell_type": "code",
   "execution_count": null,
   "id": "52f8adcd",
   "metadata": {},
   "outputs": [],
   "source": [
    "geolocator = Nominatim(user_agent=f\"{uuid.uuid4()}\")"
   ]
  },
  {
   "cell_type": "markdown",
   "id": "f946e4da",
   "metadata": {
    "slideshow": {
     "slide_type": "slide"
    }
   },
   "source": [
    "#### Let's create a variable called `location` that geocodes \"175 5th Avenue NYC\"."
   ]
  },
  {
   "cell_type": "code",
   "execution_count": null,
   "id": "a024283d",
   "metadata": {},
   "outputs": [],
   "source": [
    "location = geolocator.geocode(\"175 5th Avenue NYC\")"
   ]
  },
  {
   "cell_type": "markdown",
   "id": "331a1075",
   "metadata": {
    "slideshow": {
     "slide_type": "slide"
    }
   },
   "source": [
    "#### Let's see this `location`'s standardized geocoded address."
   ]
  },
  {
   "cell_type": "code",
   "execution_count": null,
   "id": "7c21fa8f",
   "metadata": {},
   "outputs": [],
   "source": [
    "print(location.address)"
   ]
  },
  {
   "cell_type": "markdown",
   "id": "46220102",
   "metadata": {
    "slideshow": {
     "slide_type": "slide"
    }
   },
   "source": [
    "#### Do you think this `location` object has a latitude and longitude???"
   ]
  },
  {
   "cell_type": "code",
   "execution_count": null,
   "id": "38033da7",
   "metadata": {},
   "outputs": [],
   "source": [
    "print(location.raw)"
   ]
  },
  {
   "cell_type": "markdown",
   "id": "ff8766a1",
   "metadata": {
    "slideshow": {
     "slide_type": "slide"
    }
   },
   "source": [
    "#### Let's see what the `type()` is of `location.point`"
   ]
  },
  {
   "cell_type": "code",
   "execution_count": null,
   "id": "36d30df1",
   "metadata": {},
   "outputs": [],
   "source": [
    "type(location.point)"
   ]
  },
  {
   "cell_type": "markdown",
   "id": "98b024c5",
   "metadata": {
    "slideshow": {
     "slide_type": "slide"
    }
   },
   "source": [
    "# OSMnx: \n",
    "\n",
    "Python for street networks. Retrieve, model, analyze, and visualize street networks and other spatial data from OpenStreetMap."
   ]
  },
  {
   "cell_type": "code",
   "execution_count": null,
   "id": "19feef36",
   "metadata": {
    "slideshow": {
     "slide_type": "slide"
    }
   },
   "outputs": [],
   "source": [
    "pratt_network = ox.graph_from_address(\n",
    "    address='200 Willoughby Ave, Brooklyn, NY 11205', \n",
    "    dist=1000,   # meters\n",
    "    dist_type='network',\n",
    "    retain_all=True,\n",
    "    truncate_by_edge=False,\n",
    "    simplify=False)"
   ]
  },
  {
   "cell_type": "code",
   "execution_count": null,
   "id": "f0e52ee3",
   "metadata": {},
   "outputs": [],
   "source": [
    "# you can project the network to UTM (zone calculated automatically)\n",
    "pratt_network_projected = ox.project_graph(pratt_network)\n",
    "# source: https://github.com/gboeing/osmnx-examples/tree/master/notebooks\n",
    "graph_gdfs = ox.graph_to_gdfs(pratt_network_projected, edges=True, fill_edge_geometry=True)\n",
    "pratt_intersections = graph_gdfs[0]\n",
    "pratt_streets = graph_gdfs[1]"
   ]
  },
  {
   "cell_type": "code",
   "execution_count": null,
   "id": "5e1f0089",
   "metadata": {
    "slideshow": {
     "slide_type": "slide"
    }
   },
   "outputs": [],
   "source": [
    "from geopy.geocoders import Nominatim\n",
    "from shapely.geometry import Point  # importing the Point class\n",
    "from geopandas import GeoDataFrame\n",
    "\n",
    "data = {'address': ['200 Willoughby Ave, Brooklyn, NY 11205'], 'name': ['Pratt']}\n",
    "\n",
    "geolocator = Nominatim(user_agent='pratt_geospatial')\n",
    "\n",
    "df = pd.DataFrame(data, columns=data.keys())\n",
    "\n",
    "df['geocode'] = df['address'].apply(geolocator.geocode)  \n",
    "\n",
    "df['geometry'] = df['geocode'].apply(\n",
    "    lambda x: \n",
    "        Point(x.longitude, x.latitude)\n",
    ") # create a geometry column\n",
    "\n",
    "address = GeoDataFrame(df, geometry='geometry', crs='epsg:4326')\n",
    "pratt_point = address[address['address'] == '200 Willoughby Ave, Brooklyn, NY 11205']"
   ]
  },
  {
   "cell_type": "code",
   "execution_count": null,
   "id": "90a20629",
   "metadata": {
    "slideshow": {
     "slide_type": "slide"
    }
   },
   "outputs": [],
   "source": [
    "# source: https://github.com/gboeing/osmnx-examples/tree/master/notebooks\n",
    "fig, ax = plt.subplots(figsize=(12, 12))\n",
    "\n",
    "pratt_point.to_crs(epsg=2263).buffer(3280.84).plot(ax=ax)  # 2 km buffer\n",
    "pratt_streets.to_crs(epsg=2263).plot(ax=ax, color='red')\n",
    "pratt_intersections.to_crs(epsg=2263).plot(ax=ax, color='pink')\n",
    "\n",
    "pratt_point.to_crs(epsg=2263).plot(ax=ax, color='black', markersize=5000, marker='X')  # 2 km buffer\n",
    "\n",
    "\n",
    "plt.title('Radial vs. Network Buffer')\n",
    "\n",
    "plt.show();"
   ]
  },
  {
   "cell_type": "markdown",
   "id": "4301cbd3",
   "metadata": {
    "slideshow": {
     "slide_type": "slide"
    }
   },
   "source": [
    "# Routing"
   ]
  },
  {
   "cell_type": "code",
   "execution_count": null,
   "id": "8bc306e1",
   "metadata": {
    "slideshow": {
     "slide_type": "-"
    }
   },
   "outputs": [],
   "source": [
    "from IPython.display import IFrame\n",
    "\n",
    "IFrame(src='https://en.wikipedia.org/wiki/Dijkstra%27s_algorithm', width=1000, height=600)"
   ]
  },
  {
   "cell_type": "code",
   "execution_count": null,
   "id": "d1f76da3",
   "metadata": {
    "slideshow": {
     "slide_type": "slide"
    }
   },
   "outputs": [],
   "source": [
    "print(\n",
    "    'The End. Thank You!!!\\n\\n\\n'\n",
    "    \"I'll stick around for any questions between speakers\")"
   ]
  },
  {
   "cell_type": "markdown",
   "id": "6ca32a16-65d1-464f-b468-9a4f75fbe11a",
   "metadata": {
    "slideshow": {
     "slide_type": "slide"
    }
   },
   "source": [
    "# Additional Resources\n",
    "\n",
    "* Class for Pratt SAVI 810 2020-03: Intro to Python Scripting for Geospatial - https://github.com/pratt-savi-810/pratt-savi-810-2020-03\n",
    "* Geographic Data Science Lab is a research centre at the University of Liverpool -  https://www.liverpool.ac.uk/geographic-data-science/\n",
    "* CSC Finland – IT Center for Science - Welcome to Introduction to Python GIS -course 2018 - https://automating-gis-processes.github.io/CSC/index.html\n",
    "* https://modern-gis-curriculum-new-learngis.hub.arcgis.com/\n",
    "* https://introduction-to-remote-sensing-learngis.hub.arcgis.com/\n",
    "* https://learn.arcgis.com/en/gallery/\n",
    "* https://geobgu.xyz/py/index.html\n",
    "* https://pygis.io/docs/a_intro.html\n",
    "* https://spatialthoughts.com/courses/\n",
    "* Geographic Data Science, a course designed by Dr. Dani Arribas-Bel - https://darribas.org/gds_course/content/home.html"
   ]
  }
 ],
 "metadata": {
  "celltoolbar": "Slideshow",
  "kernelspec": {
   "display_name": "Python 3 (ipykernel)",
   "language": "python",
   "name": "python3"
  },
  "language_info": {
   "codemirror_mode": {
    "name": "ipython",
    "version": 3
   },
   "file_extension": ".py",
   "mimetype": "text/x-python",
   "name": "python",
   "nbconvert_exporter": "python",
   "pygments_lexer": "ipython3",
   "version": "3.8.16"
  }
 },
 "nbformat": 4,
 "nbformat_minor": 5
}
